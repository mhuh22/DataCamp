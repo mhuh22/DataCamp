{
 "cells": [
  {
   "cell_type": "markdown",
   "metadata": {},
   "source": [
    "### Iterators vs Iterables\n",
    "* Iterable - lists, strings, dictionaries, file connections\n",
    "Associated with itermethod to create an iterator\n",
    "* Iterator - produce next value with next()"
   ]
  },
  {
   "cell_type": "code",
   "execution_count": 8,
   "metadata": {},
   "outputs": [
    {
     "name": "stdout",
     "output_type": "stream",
     "text": [
      "D\n",
      "a\n",
      "t a\n"
     ]
    }
   ],
   "source": [
    "# Iterating over strings\n",
    "\n",
    "# Define the string\n",
    "word = 'Data'\n",
    "\n",
    "# Create an iterable\n",
    "it = iter(word)\n",
    "\n",
    "# Print the next character\n",
    "print(next(it))\n",
    "print(next(it))\n",
    "\n",
    "# Print all remaining characters\n",
    "print(*it)"
   ]
  },
  {
   "cell_type": "code",
   "execution_count": 7,
   "metadata": {},
   "outputs": [
    {
     "name": "stdout",
     "output_type": "stream",
     "text": [
      "hugo bowne-anderson\n",
      "francis castro\n"
     ]
    }
   ],
   "source": [
    "# Iterating over dictionaries\n",
    "\n",
    "# Create dictionary\n",
    "pythonistas = {'hugo': 'bowne-anderson', 'francis': 'castro'}\n",
    "\n",
    "# Print all keys and values\n",
    "for key, value  in pythonistas.items():\n",
    "    print(key, value)"
   ]
  },
  {
   "cell_type": "code",
   "execution_count": 9,
   "metadata": {},
   "outputs": [
    {
     "ename": "FileNotFoundError",
     "evalue": "[Errno 2] No such file or directory: 'file.txt'",
     "output_type": "error",
     "traceback": [
      "\u001b[1;31m---------------------------------------------------------------------------\u001b[0m",
      "\u001b[1;31mFileNotFoundError\u001b[0m                         Traceback (most recent call last)",
      "\u001b[1;32m<ipython-input-9-36e710788ece>\u001b[0m in \u001b[0;36m<module>\u001b[1;34m\u001b[0m\n\u001b[0;32m      2\u001b[0m \u001b[1;33m\u001b[0m\u001b[0m\n\u001b[0;32m      3\u001b[0m \u001b[1;31m# Open a file\u001b[0m\u001b[1;33m\u001b[0m\u001b[1;33m\u001b[0m\u001b[1;33m\u001b[0m\u001b[0m\n\u001b[1;32m----> 4\u001b[1;33m \u001b[0mfile\u001b[0m \u001b[1;33m=\u001b[0m \u001b[0mopen\u001b[0m\u001b[1;33m(\u001b[0m\u001b[1;34m'file.txt'\u001b[0m\u001b[1;33m)\u001b[0m\u001b[1;33m\u001b[0m\u001b[1;33m\u001b[0m\u001b[0m\n\u001b[0m\u001b[0;32m      5\u001b[0m \u001b[1;33m\u001b[0m\u001b[0m\n\u001b[0;32m      6\u001b[0m \u001b[1;31m# Create an iterator\u001b[0m\u001b[1;33m\u001b[0m\u001b[1;33m\u001b[0m\u001b[1;33m\u001b[0m\u001b[0m\n",
      "\u001b[1;31mFileNotFoundError\u001b[0m: [Errno 2] No such file or directory: 'file.txt'"
     ]
    }
   ],
   "source": [
    "# Iterating over files\n",
    "\n",
    "# Open a file\n",
    "file = open('file.txt')\n",
    "\n",
    "# Create an iterator\n",
    "it = iter(file)\n",
    "\n",
    "# Print the next iteration\n",
    "print(next(it))\n",
    "print(next(it))"
   ]
  },
  {
   "cell_type": "markdown",
   "metadata": {},
   "source": [
    "### Iterating over iterables"
   ]
  },
  {
   "cell_type": "code",
   "execution_count": 10,
   "metadata": {},
   "outputs": [
    {
     "name": "stdout",
     "output_type": "stream",
     "text": [
      "jay garrick\n",
      "barry allen\n",
      "wally west\n",
      "bart allen\n",
      "jay garrick\n",
      "barry allen\n",
      "wally west\n",
      "bart allen\n"
     ]
    }
   ],
   "source": [
    "# Create a list of strings: flash\n",
    "flash = ['jay garrick', 'barry allen', 'wally west', 'bart allen']\n",
    "\n",
    "# Print each list item in flash using a for loop\n",
    "for person  in flash:\n",
    "    print(person)\n",
    "\n",
    "# Create an iterator for flash: superspeed\n",
    "superspeed = iter(flash)\n",
    "\n",
    "# Print each item from the iterator\n",
    "print(next(superspeed))\n",
    "print(next(superspeed))\n",
    "print(next(superspeed))\n",
    "print(next(superspeed))"
   ]
  },
  {
   "cell_type": "code",
   "execution_count": 11,
   "metadata": {},
   "outputs": [
    {
     "name": "stdout",
     "output_type": "stream",
     "text": [
      "0\n",
      "1\n",
      "2\n",
      "0\n",
      "1\n",
      "2\n",
      "0\n",
      "1\n",
      "2\n",
      "3\n",
      "4\n"
     ]
    }
   ],
   "source": [
    "# Create an iterator for range(3): small_value\n",
    "small_value = iter(range(3))\n",
    "\n",
    "# Print the values in small_value\n",
    "print(next(small_value))\n",
    "print(next(small_value))\n",
    "print(next(small_value))\n",
    "\n",
    "# Loop over range(3) and print the values\n",
    "for i in range(3):\n",
    "    print(i)\n",
    "\n",
    "# Create an iterator for range(10 ** 100): googol\n",
    "googol = iter(range(10 ** 100))\n",
    "\n",
    "# Print the first 5 values from googol\n",
    "print(next(googol))\n",
    "print(next(googol))\n",
    "print(next(googol))\n",
    "print(next(googol))\n",
    "print(next(googol))"
   ]
  },
  {
   "cell_type": "markdown",
   "metadata": {},
   "source": [
    "### Iterators as function arguments"
   ]
  },
  {
   "cell_type": "code",
   "execution_count": 13,
   "metadata": {},
   "outputs": [
    {
     "name": "stdout",
     "output_type": "stream",
     "text": [
      "range(10, 21)\n",
      "[10, 11, 12, 13, 14, 15, 16, 17, 18, 19, 20]\n",
      "165\n"
     ]
    }
   ],
   "source": [
    "# Create a range object: values\n",
    "values = range(10,21)\n",
    "\n",
    "# Print the range object\n",
    "print(values)\n",
    "\n",
    "# Create a list of integers: values_list\n",
    "values_list = list(values)\n",
    "\n",
    "# Print values_list\n",
    "print(values_list)\n",
    "\n",
    "# Get the sum of values: values_sum\n",
    "values_sum = sum(values)\n",
    "\n",
    "# Print values_sum\n",
    "print(values_sum)"
   ]
  },
  {
   "cell_type": "code",
   "execution_count": 14,
   "metadata": {},
   "outputs": [
    {
     "name": "stdout",
     "output_type": "stream",
     "text": [
      "[(0, 'charles xavier'), (1, 'bobby drake'), (2, 'kurt wagner'), (3, 'max eisenhardt'), (4, 'kitty pryde')]\n",
      "0 charles xavier\n",
      "1 bobby drake\n",
      "2 kurt wagner\n",
      "3 max eisenhardt\n",
      "4 kitty pryde\n",
      "1 charles xavier\n",
      "2 bobby drake\n",
      "3 kurt wagner\n",
      "4 max eisenhardt\n",
      "5 kitty pryde\n"
     ]
    }
   ],
   "source": [
    "# Create a list of strings: mutants\n",
    "mutants = ['charles xavier', \n",
    "            'bobby drake', \n",
    "            'kurt wagner', \n",
    "            'max eisenhardt', \n",
    "            'kitty pryde']\n",
    "\n",
    "# Create a list of tuples: mutant_list\n",
    "mutant_list = list(enumerate(mutants))\n",
    "\n",
    "# Print the list of tuples\n",
    "print(mutant_list)\n",
    "\n",
    "# Unpack and print the tuple pairs\n",
    "for index1, value1 in enumerate(mutants):\n",
    "    print(index1, value1)\n",
    "\n",
    "# Change the start index\n",
    "for index2, value2 in enumerate(mutants, start=1):\n",
    "    print(index2, value2)\n"
   ]
  },
  {
   "cell_type": "markdown",
   "metadata": {},
   "source": [
    "### Zip\n",
    "* Zip iterables together and unpack to use them\n",
    "* Unpacking: for val1, val2, valn in val_zip"
   ]
  },
  {
   "cell_type": "code",
   "execution_count": 16,
   "metadata": {},
   "outputs": [],
   "source": [
    "# # Create a list of tuples: mutant_data\n",
    "# mutant_data = list(zip(mutants, aliases, powers))\n",
    "\n",
    "# # Print the list of tuples\n",
    "# print(mutant_data)\n",
    "\n",
    "# # Create a zip object using the three lists: mutant_zip\n",
    "# mutant_zip = zip(mutants, aliases, powers)\n",
    "\n",
    "# # Print the zip object\n",
    "# print(mutant_zip)\n",
    "\n",
    "# # Unpack the zip object and print the tuple values\n",
    "# for value1, value2, value3 in mutant_zip:\n",
    "#     print(value1, value2, value3)"
   ]
  },
  {
   "cell_type": "markdown",
   "metadata": {},
   "source": [
    "To unzip a file, a, print(*a)"
   ]
  },
  {
   "cell_type": "code",
   "execution_count": 1,
   "metadata": {},
   "outputs": [],
   "source": [
    "# # Create a zip object from mutants and powers: z1\n",
    "# z1 = zip(mutants, powers)\n",
    "\n",
    "# # Print the tuples in z1 by unpacking with *\n",
    "# print(*z1)\n",
    "\n",
    "# # Re-create a zip object from mutants and powers: z1\n",
    "# z1 = zip(mutants, powers)\n",
    "\n",
    "# # 'Unzip' the tuples in z1 by unpacking with * and zip(): result1, result2\n",
    "# result1, result2 =zip(*z1)\n",
    "\n",
    "# # Check if unpacked tuples are equivalent to original tuples\n",
    "# print(result1 == mutants)\n",
    "# print(result2 == powers)"
   ]
  },
  {
   "cell_type": "markdown",
   "metadata": {},
   "source": [
    "### Processing Big Data\n",
    "* Data sizes can become excessive, so try loading data in chunks so as not to overwhelm your system with handling everything in memory"
   ]
  },
  {
   "cell_type": "code",
   "execution_count": 3,
   "metadata": {},
   "outputs": [],
   "source": [
    "# # Initialize an empty dictionary: counts_dict\n",
    "# counts_dict = {}\n",
    "\n",
    "# # Iterate over the file chunk by chunk\n",
    "# for chunk in pd.read_csv('tweets.csv', chunksize=10):\n",
    "\n",
    "#     # Iterate over the column in DataFrame\n",
    "#     for entry in chunk['lang']:\n",
    "#         if entry in counts_dict.keys():\n",
    "#             counts_dict[entry] += 1\n",
    "#         else:\n",
    "#             counts_dict[entry] = 1\n",
    "\n",
    "# # Print the populated dictionary\n",
    "# print(counts_dict)"
   ]
  },
  {
   "cell_type": "code",
   "execution_count": 4,
   "metadata": {},
   "outputs": [],
   "source": [
    "# # Define count_entries()\n",
    "# def count_entries(csv_file, c_size, colname):\n",
    "#     \"\"\"Return a dictionary with counts of\n",
    "#     occurrences as value for each key.\"\"\"\n",
    "    \n",
    "#     # Initialize an empty dictionary: counts_dict\n",
    "#     counts_dict = {}\n",
    "\n",
    "#     # Iterate over the file chunk by chunk\n",
    "#     for chunk in pd.read_csv(csv_file,chunksize = c_size):\n",
    "\n",
    "#         # Iterate over the column in DataFrame\n",
    "#         for entry in chunk[colname]:\n",
    "#             if entry in counts_dict.keys():\n",
    "#                 counts_dict[entry] += 1\n",
    "#             else:\n",
    "#                 counts_dict[entry] = 1\n",
    "\n",
    "#     # Return counts_dict\n",
    "#     return counts_dict\n",
    "\n",
    "# # Call count_entries(): result_counts\n",
    "# result_counts = count_entries('tweets.csv', c_size=10, colname = 'lang')\n",
    "\n",
    "# # Print result_counts\n",
    "# print(result_counts)\n"
   ]
  },
  {
   "cell_type": "code",
   "execution_count": null,
   "metadata": {},
   "outputs": [],
   "source": []
  }
 ],
 "metadata": {
  "kernelspec": {
   "display_name": "Python 3",
   "language": "python",
   "name": "python3"
  },
  "language_info": {
   "codemirror_mode": {
    "name": "ipython",
    "version": 3
   },
   "file_extension": ".py",
   "mimetype": "text/x-python",
   "name": "python",
   "nbconvert_exporter": "python",
   "pygments_lexer": "ipython3",
   "version": "3.7.3"
  }
 },
 "nbformat": 4,
 "nbformat_minor": 2
}
