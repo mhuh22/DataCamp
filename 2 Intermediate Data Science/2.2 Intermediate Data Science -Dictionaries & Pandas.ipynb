{
 "cells": [
  {
   "cell_type": "markdown",
   "metadata": {},
   "source": [
    "### Dictionary to DataFrame"
   ]
  },
  {
   "cell_type": "code",
   "execution_count": 8,
   "metadata": {},
   "outputs": [
    {
     "name": "stdout",
     "output_type": "stream",
     "text": [
      "         country  drives_right  cars_per_cap\n",
      "0  United States          True           809\n",
      "1      Australia         False           731\n",
      "2          Japan         False           588\n",
      "3          India         False            18\n",
      "4         Russia          True           200\n",
      "5        Morocco          True            70\n",
      "6          Egypt          True            45\n"
     ]
    }
   ],
   "source": [
    "# Pre-defined lists\n",
    "names = ['United States', 'Australia', 'Japan', 'India', 'Russia', 'Morocco', 'Egypt']\n",
    "dr =  [True, False, False, False, True, True, True]\n",
    "cpc = [809, 731, 588, 18, 200, 70, 45]\n",
    "\n",
    "# Import pandas as pd\n",
    "import pandas as pd\n",
    "\n",
    "# Create dictionary my_dict with three key:value pairs: my_dict\n",
    "my_dict = {'country': names,\n",
    "            'drives_right': dr,\n",
    "            'cars_per_cap': cpc}\n",
    "\n",
    "# Build a DataFrame cars from my_dict: cars\n",
    "cars = pd.DataFrame(my_dict)\n",
    "\n",
    "# Print cars\n",
    "print(cars)"
   ]
  },
  {
   "cell_type": "markdown",
   "metadata": {},
   "source": [
    "The following code changes the indices to country abbreviations"
   ]
  },
  {
   "cell_type": "code",
   "execution_count": null,
   "metadata": {},
   "outputs": [],
   "source": [
    "import pandas as pd\n",
    "\n",
    "# Build cars DataFrame\n",
    "names = ['United States', 'Australia', 'Japan', 'India', 'Russia', 'Morocco', 'Egypt']\n",
    "dr =  [True, False, False, False, True, True, True]\n",
    "cpc = [809, 731, 588, 18, 200, 70, 45]\n",
    "dict = { 'country':names, 'drives_right':dr, 'cars_per_cap':cpc }\n",
    "cars = pd.DataFrame(dict)\n",
    "print(cars)\n",
    "\n",
    "# Definition of row_labels\n",
    "row_labels = ['US', 'AUS', 'JAP', 'IN', 'RU', 'MOR', 'EG']\n",
    "\n",
    "# Specify row labels of cars\n",
    "cars.index = row_labels\n",
    "\n",
    "# Print cars again\n",
    "print(cars)"
   ]
  },
  {
   "cell_type": "markdown",
   "metadata": {},
   "source": [
    "### CSV to DataFrame\n",
    "* How to import a csv file using pandas"
   ]
  },
  {
   "cell_type": "code",
   "execution_count": 10,
   "metadata": {},
   "outputs": [],
   "source": [
    "# # Import pandas as pd\n",
    "# import pandas as pd\n",
    "\n",
    "# # Import the cars.csv data: cars\n",
    "# cars = pd.read_csv('cars.csv')\n",
    "\n",
    "# # Print out cars\n",
    "# print(cars)"
   ]
  },
  {
   "cell_type": "markdown",
   "metadata": {},
   "source": [
    "The following changes the index column to the first one"
   ]
  },
  {
   "cell_type": "code",
   "execution_count": null,
   "metadata": {},
   "outputs": [],
   "source": [
    "# # Import pandas as pd\n",
    "# import pandas as pd\n",
    "\n",
    "# # Fix import by including index_col\n",
    "# cars = pd.read_csv('cars.csv', index_col=0)\n",
    "\n",
    "# # Print out cars\n",
    "# print(cars)"
   ]
  },
  {
   "cell_type": "markdown",
   "metadata": {},
   "source": [
    "### Square Brackets\n",
    "* Single [] indicates selecting a series\n",
    "* Double [[]] indicates selecting a dataframe"
   ]
  },
  {
   "cell_type": "code",
   "execution_count": 12,
   "metadata": {},
   "outputs": [],
   "source": [
    "# # Import cars data\n",
    "# import pandas as pd\n",
    "# cars = pd.read_csv('cars.csv', index_col = 0)\n",
    "\n",
    "# # Print out country column as Pandas Series\n",
    "# print(cars['country'])\n",
    "\n",
    "# # Print out country column as Pandas DataFrame\n",
    "# print(cars[['country']])\n",
    "\n",
    "# # Print out DataFrame with country and drives_right columns\n",
    "# print(cars[['country', 'drives_right']])"
   ]
  },
  {
   "cell_type": "code",
   "execution_count": 13,
   "metadata": {},
   "outputs": [],
   "source": [
    "# # Import cars data\n",
    "# import pandas as pd\n",
    "# cars = pd.read_csv('cars.csv', index_col = 0)\n",
    "\n",
    "# # Print out first 3 observations\n",
    "# print(cars[0:3])\n",
    "\n",
    "# # Print out fourth, fifth and sixth observation\n",
    "# print(cars[3:6])"
   ]
  },
  {
   "cell_type": "markdown",
   "metadata": {},
   "source": [
    "### Loc and iloc\n",
    "* Loc is label-based\n",
    "* iloc is integer index based"
   ]
  },
  {
   "cell_type": "code",
   "execution_count": 14,
   "metadata": {},
   "outputs": [],
   "source": [
    "# # Import cars data\n",
    "# import pandas as pd\n",
    "# cars = pd.read_csv('cars.csv', index_col = 0)\n",
    "\n",
    "# # Print out observation for Japan\n",
    "# print(cars.loc['JAP'])\n",
    "\n",
    "# # Print out observations for Australia and Egypt\n",
    "# print(cars.loc[['AUS', 'EG']])\n",
    "# print(cars.iloc[[1,6]])"
   ]
  },
  {
   "cell_type": "markdown",
   "metadata": {},
   "source": [
    "The following rows find a specific entry in the dataframe and create a sub-dataframe by limiting the rows and columns"
   ]
  },
  {
   "cell_type": "code",
   "execution_count": 16,
   "metadata": {},
   "outputs": [],
   "source": [
    "# # Import cars data\n",
    "# import pandas as pd\n",
    "# cars = pd.read_csv('cars.csv', index_col = 0)\n",
    "\n",
    "# # Print out drives_right value of Morocco\n",
    "# print(cars.loc['MOR', 'drives_right'])\n",
    "\n",
    "# # Print sub-DataFrame\n",
    "# print(cars.loc[['RU', 'MOR'], ['country', 'drives_right']])"
   ]
  },
  {
   "cell_type": "markdown",
   "metadata": {},
   "source": [
    "More sub-dataframes"
   ]
  },
  {
   "cell_type": "code",
   "execution_count": 17,
   "metadata": {},
   "outputs": [],
   "source": [
    "# # Import cars data\n",
    "# import pandas as pd\n",
    "# cars = pd.read_csv('cars.csv', index_col = 0)\n",
    "\n",
    "# # Print out drives_right column as Series\n",
    "# print(cars['drives_right'])\n",
    "\n",
    "# # Print out drives_right column as DataFrame\n",
    "# print(cars[['drives_right']])\n",
    "\n",
    "# # Print out cars_per_cap and drives_right as DataFrame\n",
    "# print(cars.loc[:, ['cars_per_cap', 'drives_right']])"
   ]
  },
  {
   "cell_type": "code",
   "execution_count": null,
   "metadata": {},
   "outputs": [],
   "source": []
  }
 ],
 "metadata": {
  "kernelspec": {
   "display_name": "Python 3",
   "language": "python",
   "name": "python3"
  },
  "language_info": {
   "codemirror_mode": {
    "name": "ipython",
    "version": 3
   },
   "file_extension": ".py",
   "mimetype": "text/x-python",
   "name": "python",
   "nbconvert_exporter": "python",
   "pygments_lexer": "ipython3",
   "version": "3.7.3"
  }
 },
 "nbformat": 4,
 "nbformat_minor": 2
}
