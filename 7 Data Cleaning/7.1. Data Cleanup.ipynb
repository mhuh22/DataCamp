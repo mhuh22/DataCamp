{
 "cells": [
  {
   "cell_type": "markdown",
   "metadata": {},
   "source": [
    "## Common Data Problems\n",
    "\n",
    "* Inconsistent column names\n",
    "* Missing data\n",
    "* Outliers\n",
    "* Duplicate rows\n",
    "* Untidy\n",
    "* Need to process columns\n",
    "* Column types can signal unexpected data values"
   ]
  },
  {
   "cell_type": "code",
   "execution_count": 2,
   "metadata": {},
   "outputs": [
    {
     "name": "stdout",
     "output_type": "stream",
     "text": [
      "<class 'pandas.core.frame.DataFrame'>\n",
      "Index: 0 entries\n",
      "Empty DataFrame"
     ]
    }
   ],
   "source": [
    "# Common ways to inspect data\n",
    "\n",
    "import pandas as pd\n",
    "\n",
    "# Generate an empty dataframe\n",
    "df = pd.DataFrame()\n",
    "\n",
    "# View the column names\n",
    "df.columns\n",
    "\n",
    "# View the size of the dataset\n",
    "df.shape\n",
    "\n",
    "# Obtain additional information about a dataframe\n",
    "# Such as the number of rows, columns, missing values, & data type\n",
    "df.info()"
   ]
  },
  {
   "cell_type": "markdown",
   "metadata": {},
   "source": [
    "### Exploratory Data Analysis"
   ]
  },
  {
   "cell_type": "code",
   "execution_count": 4,
   "metadata": {},
   "outputs": [],
   "source": [
    "# View the counts of each value for a column (or all)\n",
    "# df.column.value_counts()\n",
    "\n",
    "# Return statistics for all numeric columns\n",
    "# df.describe()\n",
    "\n",
    "# Print the number of each occurence\n",
    "# df.value_counts()"
   ]
  },
  {
   "cell_type": "markdown",
   "metadata": {},
   "source": [
    "Data visualization"
   ]
  },
  {
   "cell_type": "code",
   "execution_count": 7,
   "metadata": {},
   "outputs": [],
   "source": [
    "# Creating a histogram with discrete data\n",
    "\n",
    "# import matplotlib.pyplot as plt\n",
    "\n",
    "# df.column.plot('hist')\n",
    "# plt.show()"
   ]
  },
  {
   "cell_type": "code",
   "execution_count": null,
   "metadata": {},
   "outputs": [],
   "source": [
    "# # Creating a box plot\n",
    "\n",
    "# df.boxplot(column='column1', by='condition')\n",
    "# plt.show()"
   ]
  },
  {
   "cell_type": "code",
   "execution_count": 9,
   "metadata": {},
   "outputs": [],
   "source": [
    "# # Import matplotlib.pyplot\n",
    "# import matplotlib.pyplot as plt\n",
    "\n",
    "# # Describe the column\n",
    "# df['Existing Zoning Sqft'].describe()\n",
    "\n",
    "# # Plot the histogram\n",
    "# df['Existing Zoning Sqft'].plot(kind='hist', rot=70, logx=True, logy=True)\n",
    "\n",
    "# # Display the histogram\n",
    "# plt.show()"
   ]
  },
  {
   "cell_type": "code",
   "execution_count": 10,
   "metadata": {},
   "outputs": [],
   "source": [
    "# # Import necessary modules\n",
    "# import pandas as pd\n",
    "# import matplotlib.pyplot as plt\n",
    "\n",
    "# # Create the boxplot\n",
    "# df.boxplot(column='initial_cost', by='Borough', rot=90)\n",
    "\n",
    "# # Display the plot\n",
    "# plt.show()"
   ]
  },
  {
   "cell_type": "code",
   "execution_count": null,
   "metadata": {},
   "outputs": [],
   "source": [
    "# # Import necessary modules\n",
    "# import pandas as pd\n",
    "# import matplotlib.pyplot as plt\n",
    "\n",
    "# # Create and display the first scatter plot\n",
    "# df.plot(kind='scatter', x='initial_cost', y='total_est_fee', rot=70)\n",
    "# plt.show()\n",
    "\n",
    "# # Create and display the second scatter plot\n",
    "# df_subset.plot(kind='scatter', x='initial_cost', y='total_est_fee', rot=70)\n",
    "# plt.show()"
   ]
  },
  {
   "cell_type": "markdown",
   "metadata": {},
   "source": [
    "Melting data can be used to separate a non-descript column to multiple columns based on those values"
   ]
  },
  {
   "cell_type": "code",
   "execution_count": null,
   "metadata": {},
   "outputs": [],
   "source": [
    "# # Print the head of airquality\n",
    "# print(airquality.head())\n",
    "\n",
    "# # Melt airquality: airquality_melt\n",
    "# airquality_melt = pd.melt(airquality, id_vars = ['Month', 'Day'])\n",
    "\n",
    "# # Print the head of airquality_melt\n",
    "# print(airquality_melt.head())"
   ]
  },
  {
   "cell_type": "code",
   "execution_count": null,
   "metadata": {},
   "outputs": [],
   "source": [
    "# # Print the head of airquality\n",
    "# print(airquality.head())\n",
    "\n",
    "# # Melt airquality: airquality_melt\n",
    "# airquality_melt = pd.melt(airquality, id_vars=['Month', 'Day'], var_name='measurement', value_name='reading')\n",
    "\n",
    "# # Print the head of airquality_melt\n",
    "# print(airquality_melt.head())"
   ]
  }
 ],
 "metadata": {
  "kernelspec": {
   "display_name": "Python 3",
   "language": "python",
   "name": "python3"
  },
  "language_info": {
   "codemirror_mode": {
    "name": "ipython",
    "version": 3
   },
   "file_extension": ".py",
   "mimetype": "text/x-python",
   "name": "python",
   "nbconvert_exporter": "python",
   "pygments_lexer": "ipython3",
   "version": "3.7.3"
  }
 },
 "nbformat": 4,
 "nbformat_minor": 2
}
