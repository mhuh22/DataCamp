{
 "cells": [
  {
   "cell_type": "markdown",
   "metadata": {},
   "source": [
    "### 5.1. Introduction and Flat Files (csv, txt)"
   ]
  },
  {
   "cell_type": "code",
   "execution_count": 3,
   "metadata": {},
   "outputs": [],
   "source": [
    "# # Give the file name\n",
    "# filename = 'file.txt'\n",
    "\n",
    "# # Open a file in read-only mode\n",
    "# file = open(filename, mode='r')\n",
    "\n",
    "# # Open, and modify a file\n",
    "# file = open(filename, mode='w')\n",
    "\n",
    "# # Close a file\n",
    "# file.close()\n",
    "\n",
    "# # Open, and close, a file within a loop\n",
    "# with open(filename, 'r') as file:\n",
    "#     print(file.read())"
   ]
  },
  {
   "cell_type": "markdown",
   "metadata": {},
   "source": [
    "Example"
   ]
  },
  {
   "cell_type": "code",
   "execution_count": 4,
   "metadata": {},
   "outputs": [],
   "source": [
    "# # Open a file: file\n",
    "# file = open('moby_dick.txt', 'r')\n",
    "\n",
    "# # Print it\n",
    "# print(file.read())\n",
    "\n",
    "# # Check whether file is closed\n",
    "# print(file.closed)\n",
    "\n",
    "# # Close file\n",
    "# file.close()\n",
    "\n",
    "# # Check whether file is closed\n",
    "# print(file.closed)\n"
   ]
  },
  {
   "cell_type": "code",
   "execution_count": 5,
   "metadata": {},
   "outputs": [],
   "source": [
    "# # Read & print the first 3 lines\n",
    "# with open('moby_dick.txt') as file:\n",
    "#     print(file.readline())\n",
    "#     print(file.readline())\n",
    "#     print(file.readline())"
   ]
  },
  {
   "cell_type": "markdown",
   "metadata": {},
   "source": [
    "Read digits file using loadtxt from the numpy module"
   ]
  },
  {
   "cell_type": "code",
   "execution_count": 6,
   "metadata": {},
   "outputs": [],
   "source": [
    "# # Import package\n",
    "# import numpy as np\n",
    "\n",
    "# # Assign filename to variable: file\n",
    "# file = 'digits.csv'\n",
    "\n",
    "# # Load file as array: digits\n",
    "# digits = np.loadtxt(file, delimiter=',')\n",
    "\n",
    "# # Print datatype of digits\n",
    "# print(type(digits))\n",
    "\n",
    "# # Select and reshape a row\n",
    "# im = digits[21, 1:]\n",
    "# im_sq = np.reshape(im, (28, 28))\n",
    "\n",
    "# # Plot reshaped data (matplotlib.pyplot already loaded as plt)\n",
    "# plt.imshow(im_sq, cmap='Greys', interpolation='nearest')\n",
    "# plt.show()"
   ]
  },
  {
   "cell_type": "code",
   "execution_count": 11,
   "metadata": {},
   "outputs": [],
   "source": [
    "# # Import numpy\n",
    "# import numpy as np\n",
    "\n",
    "# # Assign the filename: file\n",
    "# file = 'digits_header.txt'\n",
    "\n",
    "# # Load the data: data\n",
    "# data = np.loadtxt(file, delimiter='\\t', skiprows=1, usecols=(0,2))\n",
    "\n",
    "# # Print data\n",
    "# print(data)"
   ]
  },
  {
   "cell_type": "markdown",
   "metadata": {},
   "source": [
    "Import a table, along with the data type"
   ]
  },
  {
   "cell_type": "code",
   "execution_count": 10,
   "metadata": {},
   "outputs": [],
   "source": [
    "# # Assign filename: file\n",
    "# file = 'seaslug.txt'\n",
    "\n",
    "# # Import file: data\n",
    "# data = np.loadtxt(file, delimiter='\\t', dtype=str)\n",
    "\n",
    "# # Print the first element of data\n",
    "# print(data[0])\n",
    "\n",
    "# # Import data as floats and skip the first row: data_float\n",
    "# data_float = np.loadtxt(file, delimiter='\\t', dtype=float, skiprows=1)\n",
    "\n",
    "# # Print the 10th element of data_float\n",
    "# print(data_float[10])\n",
    "\n",
    "# # Plot a scatterplot of the data\n",
    "# plt.scatter(data_float[:, 0], data_float[:, 1])\n",
    "# plt.xlabel('time (min.)')\n",
    "# plt.ylabel('percentage of larvae')\n",
    "# plt.show()"
   ]
  },
  {
   "cell_type": "markdown",
   "metadata": {},
   "source": [
    "Importing different datatypes"
   ]
  },
  {
   "cell_type": "code",
   "execution_count": 1,
   "metadata": {},
   "outputs": [],
   "source": [
    "# # Assign filename: file\n",
    "# file = 'seaslug.txt'\n",
    "\n",
    "# # Import file: data\n",
    "# data = np.loadtxt(file, delimiter='\\t', dtype=str)\n",
    "\n",
    "# # Print the first element of data\n",
    "# print(data[0])\n",
    "\n",
    "# # Import data as floats and skip the first row: data_float\n",
    "# data_float = np.loadtxt(file, delimiter='\\t', dtype=float, skiprows=1)\n",
    "\n",
    "# # Print the 10th element of data_float\n",
    "# print(data_float[9])\n",
    "\n",
    "# # Plot a scatterplot of the data\n",
    "# plt.scatter(data_float[:, 0], data_float[:, 1])\n",
    "# plt.xlabel('time (min.)')\n",
    "# plt.ylabel('percentage of larvae')\n",
    "# plt.show()"
   ]
  },
  {
   "cell_type": "markdown",
   "metadata": {},
   "source": [
    "Using recfromcsv - this function does not have a default data type"
   ]
  },
  {
   "cell_type": "code",
   "execution_count": 2,
   "metadata": {},
   "outputs": [],
   "source": [
    "# # Assign the filename: file\n",
    "# file = 'titanic.csv'\n",
    "\n",
    "# # Import file using np.recfromcsv: d\n",
    "# d = np.recfromcsv(file)\n",
    "\n",
    "# # Print out first three entries of d\n",
    "# print(d[:3])"
   ]
  },
  {
   "cell_type": "markdown",
   "metadata": {},
   "source": [
    "Using pandas"
   ]
  },
  {
   "cell_type": "code",
   "execution_count": 3,
   "metadata": {},
   "outputs": [],
   "source": [
    "# # Import pandas as pd\n",
    "# import pandas as pd\n",
    "\n",
    "# # Assign the filename: file\n",
    "# file = 'titanic.csv'\n",
    "\n",
    "# # Read the file into a DataFrame: df\n",
    "# df = pd.read_csv(file)\n",
    "\n",
    "# # View the head of the DataFrame\n",
    "# print(df.head())"
   ]
  },
  {
   "cell_type": "markdown",
   "metadata": {},
   "source": [
    "Creating a numpy array from a dataframe"
   ]
  },
  {
   "cell_type": "code",
   "execution_count": 4,
   "metadata": {},
   "outputs": [],
   "source": [
    "# # Assign the filename: file\n",
    "# file = 'digits.csv'\n",
    "\n",
    "# # Read the first 5 rows of the file into a DataFrame: data\n",
    "# data = pd.read_csv(file, nrows=5, header=None)\n",
    "\n",
    "# # Build a numpy array from the DataFrame: data_array\n",
    "# data_array = np.array(data)\n",
    "\n",
    "# # Print the datatype of data_array to the shell\n",
    "# print(type(data_array))"
   ]
  },
  {
   "cell_type": "markdown",
   "metadata": {},
   "source": [
    "Delimiters, comments, and na_values in pandas"
   ]
  },
  {
   "cell_type": "code",
   "execution_count": 5,
   "metadata": {},
   "outputs": [],
   "source": [
    "# # Import matplotlib.pyplot as plt\n",
    "# import matplotlib.pyplot as plt\n",
    "\n",
    "# # Assign filename: file\n",
    "# file = 'titanic_corrupt.txt'\n",
    "\n",
    "# # Import file: data\n",
    "# # Ignore comments after #\n",
    "# # Do nothing with na values\n",
    "# data = pd.read_csv(file, sep='\\t', comment='#', na_values='Nothing')\n",
    "\n",
    "# # Print the head of the DataFrame\n",
    "# print(data.head())\n",
    "\n",
    "# # Plot 'Age' variable in a histogram\n",
    "# pd.DataFrame.hist(data[['Age']])\n",
    "# plt.xlabel('Age (years)')\n",
    "# plt.ylabel('count')\n",
    "# plt.show()"
   ]
  },
  {
   "cell_type": "code",
   "execution_count": null,
   "metadata": {},
   "outputs": [],
   "source": []
  }
 ],
 "metadata": {
  "kernelspec": {
   "display_name": "Python 3",
   "language": "python",
   "name": "python3"
  },
  "language_info": {
   "codemirror_mode": {
    "name": "ipython",
    "version": 3
   },
   "file_extension": ".py",
   "mimetype": "text/x-python",
   "name": "python",
   "nbconvert_exporter": "python",
   "pygments_lexer": "ipython3",
   "version": "3.7.3"
  }
 },
 "nbformat": 4,
 "nbformat_minor": 2
}
