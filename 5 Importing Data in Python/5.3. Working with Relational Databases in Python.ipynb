{
 "cells": [
  {
   "cell_type": "markdown",
   "metadata": {},
   "source": [
    "## What is a relational database\n",
    "* Based on relational mode of data\n",
    "* Requires a unique (primary) key"
   ]
  },
  {
   "cell_type": "code",
   "execution_count": 1,
   "metadata": {},
   "outputs": [],
   "source": [
    "# Import necessary module\n",
    "from sqlalchemy import create_engine\n",
    "\n",
    "# Create engine: engine\n",
    "engine = create_engine('sqlite:///Chinook.sqlite')"
   ]
  },
  {
   "cell_type": "code",
   "execution_count": 2,
   "metadata": {},
   "outputs": [
    {
     "name": "stdout",
     "output_type": "stream",
     "text": [
      "[]\n"
     ]
    }
   ],
   "source": [
    "# Import necessary module\n",
    "from sqlalchemy import create_engine\n",
    "\n",
    "# Create engine: engine\n",
    "engine = create_engine('sqlite:///Chinook.sqlite')\n",
    "\n",
    "# Save the table names to a list: table_names\n",
    "table_names = engine.table_names()\n",
    "\n",
    "# Print the table names to the shell\n",
    "print(table_names)"
   ]
  },
  {
   "cell_type": "markdown",
   "metadata": {},
   "source": [
    "### Executing SQL Commands in Python using SQLAlchemy"
   ]
  },
  {
   "cell_type": "code",
   "execution_count": 4,
   "metadata": {},
   "outputs": [],
   "source": [
    "# # Import packages\n",
    "# from sqlalchemy import create_engine\n",
    "# import pandas as pd\n",
    "\n",
    "# # Create engine: engine\n",
    "# engine = create_engine('sqlite:///Chinook.sqlite')\n",
    "\n",
    "# # Open engine connection: con\n",
    "# con = engine.connect()\n",
    "\n",
    "# # Perform query: rs\n",
    "# rs = con.execute('Select * from Album')\n",
    "\n",
    "# # Save results of the query to DataFrame: df\n",
    "# df = pd.DataFrame(rs)\n",
    "\n",
    "# # Close connection\n",
    "# con.close()\n",
    "\n",
    "# # Print head of DataFrame df\n",
    "# print(df.head())"
   ]
  },
  {
   "cell_type": "markdown",
   "metadata": {},
   "source": [
    "SELECT clause"
   ]
  },
  {
   "cell_type": "code",
   "execution_count": 5,
   "metadata": {},
   "outputs": [],
   "source": [
    "# # Open engine in context manager\n",
    "# # Perform query and save results to DataFrame: df\n",
    "# with engine.connect() as con:\n",
    "#     rs = con.execute('SELECT LastName, Title FROM Employee')\n",
    "#     df = pd.DataFrame(rs.fetchmany(size=3))\n",
    "#     df.columns = rs.keys()\n",
    "\n",
    "# # Print the length of the DataFrame df\n",
    "# print(len(df))\n",
    "\n",
    "# # Print the head of the DataFrame df\n",
    "# print(df.head())"
   ]
  },
  {
   "cell_type": "markdown",
   "metadata": {},
   "source": [
    "WHERE clause"
   ]
  },
  {
   "cell_type": "code",
   "execution_count": 7,
   "metadata": {},
   "outputs": [],
   "source": [
    "# # Create engine: engine\n",
    "# engine = create_engine('sqlite:///Chinook.sqlite')\n",
    "\n",
    "# # Open engine in context manager\n",
    "# # Perform query and save results to DataFrame: df\n",
    "# with engine.connect() as con:\n",
    "#     rs = con.execute('SELECT * FROM Employee WHERE EmployeeId >= 6')\n",
    "#     df = pd.DataFrame(rs.fetchall())\n",
    "#     df.columns = rs.keys()\n",
    "\n",
    "# # Print the head of the DataFrame df\n",
    "# print(df.head())"
   ]
  },
  {
   "cell_type": "markdown",
   "metadata": {},
   "source": [
    "ORDER BY clause"
   ]
  },
  {
   "cell_type": "code",
   "execution_count": 1,
   "metadata": {},
   "outputs": [],
   "source": [
    "# # Create engine: engine\n",
    "# engine = create_engine('sqlite:///Chinook.sqlite')\n",
    "\n",
    "# # Open engine in context manager\n",
    "# with engine.connect() as con:\n",
    "#     rs = con.execute('SELECT * FROM Employee ORDER BY BirthDate ASC')\n",
    "#     df = pd.DataFrame(rs.fetchall())\n",
    "\n",
    "#     # Set the DataFrame's column names\n",
    "#     df.columns = rs.keys()\n",
    "\n",
    "# # Print head of DataFrame\n",
    "# print(df.head())\n"
   ]
  },
  {
   "cell_type": "markdown",
   "metadata": {},
   "source": [
    "Using pandas to import and read sql queries"
   ]
  },
  {
   "cell_type": "code",
   "execution_count": 2,
   "metadata": {},
   "outputs": [],
   "source": [
    "# # Import packages\n",
    "# from sqlalchemy import create_engine\n",
    "# import pandas as pd\n",
    "\n",
    "# # Create engine: engine\n",
    "# engine = create_engine('sqlite:///Chinook.sqlite')\n",
    "\n",
    "# # Execute query and store records in DataFrame: df\n",
    "# df = pd.read_sql_query('SELECT * FROM Album', engine)\n",
    "\n",
    "# # Print head of DataFrame\n",
    "# print(df.head())\n",
    "\n",
    "# # Open engine in context manager and store query result in df1\n",
    "# with engine.connect() as con:\n",
    "#     rs = con.execute(\"SELECT * FROM Album\")\n",
    "#     df1 = pd.DataFrame(rs.fetchall())\n",
    "#     df1.columns = rs.keys()\n",
    "\n",
    "# # Confirm that both methods yield the same result\n",
    "# print(df.equals(df1))"
   ]
  },
  {
   "cell_type": "code",
   "execution_count": 3,
   "metadata": {},
   "outputs": [],
   "source": [
    "# # Import packages\n",
    "# from sqlalchemy import create_engine\n",
    "# import pandas as pd\n",
    "\n",
    "# # Create engine: engine\n",
    "# engine = create_engine('sqlite:///Chinook.sqlite')\n",
    "\n",
    "# # Execute query and store records in DataFrame: df\n",
    "# df = pd.read_sql_query('SELECT * FROM Employee WHERE EmployeeID >=6 ORDER BY BirthDate', engine)\n",
    "\n",
    "# # Print head of DataFrame\n",
    "# print(df.head())"
   ]
  },
  {
   "cell_type": "markdown",
   "metadata": {},
   "source": [
    "Inner Join in Python (pandas)"
   ]
  },
  {
   "cell_type": "code",
   "execution_count": 5,
   "metadata": {},
   "outputs": [],
   "source": [
    "# # Open engine in context manager\n",
    "# # Perform query and save results to DataFrame: df\n",
    "# with engine.connect() as con:\n",
    "#     rs = con.execute('SELECT Title, Name from Album INNER JOIN Artist on album.ArtistID = artist.ArtistID')\n",
    "#     df = pd.DataFrame(rs.fetchall())\n",
    "#     df.columns = rs.keys()\n",
    "\n",
    "# # Print head of DataFrame df\n",
    "# print(df.head())"
   ]
  },
  {
   "cell_type": "code",
   "execution_count": 6,
   "metadata": {},
   "outputs": [],
   "source": [
    "# # Execute query and store records in DataFrame: df\n",
    "# df = pd.read_sql_query('SELECT * FROM PlaylistTrack INNER JOIN Track on PlaylistTrack.TrackID = Track.TrackID WHERE Milliseconds < 250000', engine)\n",
    "\n",
    "# # Print head of DataFrame\n",
    "# print(df.head())"
   ]
  },
  {
   "cell_type": "code",
   "execution_count": null,
   "metadata": {},
   "outputs": [],
   "source": []
  }
 ],
 "metadata": {
  "kernelspec": {
   "display_name": "Python 3",
   "language": "python",
   "name": "python3"
  },
  "language_info": {
   "codemirror_mode": {
    "name": "ipython",
    "version": 3
   },
   "file_extension": ".py",
   "mimetype": "text/x-python",
   "name": "python",
   "nbconvert_exporter": "python",
   "pygments_lexer": "ipython3",
   "version": "3.7.3"
  }
 },
 "nbformat": 4,
 "nbformat_minor": 2
}
