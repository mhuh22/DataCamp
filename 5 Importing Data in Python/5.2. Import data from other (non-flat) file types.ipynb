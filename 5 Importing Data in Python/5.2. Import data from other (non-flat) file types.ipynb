{
 "cells": [
  {
   "cell_type": "code",
   "execution_count": 2,
   "metadata": {},
   "outputs": [
    {
     "data": {
      "text/plain": [
       "['.ipynb_checkpoints',\n",
       " '5.1. Introduction and Flat Files.ipynb',\n",
       " '5.2. Import data from other (non-flat) file types.ipynb']"
      ]
     },
     "execution_count": 2,
     "metadata": {},
     "output_type": "execute_result"
    }
   ],
   "source": [
    "# Import os-level functions\n",
    "import os\n",
    "\n",
    "# Stores name of current directory\n",
    "wd = os.getcwd()\n",
    "\n",
    "# List all files in the active directory\n",
    "os.listdir(wd)"
   ]
  },
  {
   "cell_type": "markdown",
   "metadata": {},
   "source": [
    "### Pickled data structures\n",
    "A way to zip files, native to python"
   ]
  },
  {
   "cell_type": "code",
   "execution_count": 1,
   "metadata": {},
   "outputs": [],
   "source": [
    "# # Import pickle package\n",
    "# import pickle\n",
    "\n",
    "# # Open pickle file and load data\n",
    "# # Second argument is to import the data as read-only, and binary\n",
    "# with open('data.pkl', 'rb') as file:\n",
    "#     d = pickle.load(file)\n",
    "\n",
    "# # Print data\n",
    "# print(d)\n",
    "\n",
    "# # Print datatype\n",
    "# print(type(d))"
   ]
  },
  {
   "cell_type": "markdown",
   "metadata": {},
   "source": [
    "Printing sheet names"
   ]
  },
  {
   "cell_type": "code",
   "execution_count": 3,
   "metadata": {},
   "outputs": [],
   "source": [
    "# # Import pandas\n",
    "# import pandas as pd\n",
    "\n",
    "# # Assign spreadsheet filename: file\n",
    "# file = 'battledeath.xlsx'\n",
    "\n",
    "# # Load spreadsheet: xl\n",
    "# xls = pd.ExcelFile(file)\n",
    "\n",
    "# # Print sheet names\n",
    "# print(xls.sheet_names)\n"
   ]
  },
  {
   "cell_type": "markdown",
   "metadata": {},
   "source": [
    "Importing sheets from an .xlsx file"
   ]
  },
  {
   "cell_type": "code",
   "execution_count": 4,
   "metadata": {},
   "outputs": [],
   "source": [
    "# # Load a sheet into a DataFrame by name: df1\n",
    "# df1 = xls.parse('2004')\n",
    "\n",
    "# # Print the head of the DataFrame df1\n",
    "# print(df1.head())\n",
    "\n",
    "# # Load a sheet into a DataFrame by index: df2\n",
    "# df2 = xls.parse(0)\n",
    "\n",
    "# # Print the head of the DataFrame df2\n",
    "# print(df2.head())"
   ]
  },
  {
   "cell_type": "code",
   "execution_count": 1,
   "metadata": {},
   "outputs": [],
   "source": [
    "# # Parse the first sheet and rename the columns: df1\n",
    "# df1 = xls.parse(0, skiprows=[0], names=['Country', 'AAM due to War (2002)'])\n",
    "\n",
    "# # Print the head of the DataFrame df1\n",
    "# print(df1.head())\n",
    "\n",
    "# # Parse the first column of the second sheet and rename the column: df2\n",
    "# df2 = xls.parse(1, usecols=[0], skiprows=[0], names=['Country'])\n",
    "\n",
    "# # Print the head of the DataFrame df2\n",
    "# print(df2.head())"
   ]
  },
  {
   "cell_type": "markdown",
   "metadata": {},
   "source": [
    "### Import SAS files into Python"
   ]
  },
  {
   "cell_type": "code",
   "execution_count": 3,
   "metadata": {},
   "outputs": [],
   "source": [
    "# # Import sas7bdat package\n",
    "# from sas7bdat import SAS7BDAT\n",
    "\n",
    "# # Save file to a DataFrame: df_sas\n",
    "# with SAS7BDAT('sales.sas7bdat') as file:\n",
    "#     df_sas = SAS7BDAT.to_data_frame(file)\n",
    "\n",
    "# # Print head of DataFrame\n",
    "# print(df_sas.head())\n",
    "\n",
    "# # Plot histogram of DataFrame features (pandas and pyplot already imported)\n",
    "# pd.DataFrame.hist(df_sas[['P']])\n",
    "# plt.ylabel('count')\n",
    "# plt.show()"
   ]
  },
  {
   "cell_type": "markdown",
   "metadata": {},
   "source": [
    "### Import Stata files into Python"
   ]
  },
  {
   "cell_type": "code",
   "execution_count": 4,
   "metadata": {},
   "outputs": [],
   "source": [
    "# # Import pandas\n",
    "# import pandas as pd\n",
    "\n",
    "# # Load Stata file into a pandas DataFrame: df\n",
    "# df = pd.read_stata('disarea.dta')\n",
    "\n",
    "# # Print the head of the DataFrame df\n",
    "# print(df.head())\n",
    "\n",
    "# # Plot histogram of one column of the DataFrame\n",
    "# pd.DataFrame.hist(df[['disa10']])\n",
    "# plt.xlabel('Extent of disease')\n",
    "# plt.ylabel('Number of countries')\n",
    "# plt.show()\n"
   ]
  },
  {
   "cell_type": "markdown",
   "metadata": {},
   "source": [
    "### Import HDF5 files into Python (large numerical data files)"
   ]
  },
  {
   "cell_type": "code",
   "execution_count": 6,
   "metadata": {},
   "outputs": [],
   "source": [
    "# # Import packages\n",
    "# import numpy as np\n",
    "# import h5py\n",
    "\n",
    "# # Assign filename: file\n",
    "# file = 'LIGO_data.hdf5'\n",
    "\n",
    "# # Load file: data\n",
    "# data = h5py.File(file, 'r')\n",
    "\n",
    "# # Print the datatype of the loaded file\n",
    "# print(type(data))\n",
    "\n",
    "# # Print the keys of the file\n",
    "# for key in data.keys():\n",
    "#     print(key)"
   ]
  },
  {
   "cell_type": "code",
   "execution_count": 7,
   "metadata": {},
   "outputs": [],
   "source": [
    "# # Get the HDF5 group: group\n",
    "# group = data['strain']\n",
    "\n",
    "# # Check out keys of group\n",
    "# for key in group.keys():\n",
    "#     print(key)\n",
    "\n",
    "# # Set variable equal to time series data: strain\n",
    "# strain = group['Strain'].value\n",
    "\n",
    "# # Set number of time points to sample: num_samples\n",
    "# num_samples = 10000\n",
    "\n",
    "# # Set time vector\n",
    "# time = np.arange(0, 1, 1/num_samples)\n",
    "\n",
    "# # Plot data\n",
    "# plt.plot(time, strain[:num_samples])\n",
    "# plt.xlabel('GPS Time (s)')\n",
    "# plt.ylabel('strain')\n",
    "# plt.show()\n"
   ]
  },
  {
   "cell_type": "markdown",
   "metadata": {},
   "source": [
    "### Import matplot files"
   ]
  },
  {
   "cell_type": "code",
   "execution_count": 8,
   "metadata": {},
   "outputs": [],
   "source": [
    "# # Import package\n",
    "# import scipy.io\n",
    "\n",
    "# # Load MATLAB file: mat\n",
    "# mat = scipy.io.loadmat('albeck_gene_expression.mat')\n",
    "\n",
    "# # Print the datatype type of mat\n",
    "# print(type(mat))"
   ]
  },
  {
   "cell_type": "code",
   "execution_count": null,
   "metadata": {},
   "outputs": [],
   "source": []
  }
 ],
 "metadata": {
  "kernelspec": {
   "display_name": "Python 3",
   "language": "python",
   "name": "python3"
  },
  "language_info": {
   "codemirror_mode": {
    "name": "ipython",
    "version": 3
   },
   "file_extension": ".py",
   "mimetype": "text/x-python",
   "name": "python",
   "nbconvert_exporter": "python",
   "pygments_lexer": "ipython3",
   "version": "3.7.3"
  }
 },
 "nbformat": 4,
 "nbformat_minor": 2
}
